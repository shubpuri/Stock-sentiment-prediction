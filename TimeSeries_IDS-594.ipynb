{
 "cells": [
  {
   "cell_type": "code",
   "execution_count": 1,
   "metadata": {},
   "outputs": [],
   "source": [
    "import pandas as pd\n",
    "from pandas_datareader import data as web\n",
    "import datetime\n",
    "import urllib\n",
    "import csv\n",
    "import numpy as np\n",
    "from sklearn.svm import SVR\n",
    "import matplotlib.pyplot as plt\n",
    "import re\n",
    "from sklearn.linear_model import LinearRegression\n",
    "from sklearn import neighbors\n",
    "from sklearn.model_selection import GridSearchCV\n",
    "from sklearn.preprocessing import MinMaxScaler\n",
    "from pyramid.arima import auto_arima\n",
    "from fbprophet import Prophet\n",
    "from sklearn.preprocessing import MinMaxScaler\n",
    "from keras.models import Sequential\n",
    "from keras.layers import Dense, Dropout, LSTM"
   ]
  },
  {
   "cell_type": "code",
   "execution_count": 3,
   "metadata": {},
   "outputs": [],
   "source": [
    "# We will look at stock prices over the past year, starting at January 1, 2015\n",
    "start = datetime.datetime(2015,1,1)\n",
    "\n",
    "# Let's get Apple stock data; Apple's ticker symbol is AAPL\n",
    "# First argument is the series we want, second is the source (\"yahoo\" for Yahoo! Finance), third is the start date, fourth is the end date\n",
    "apple = web.DataReader(\"AAPL\", \"yahoo\", start)"
   ]
  },
  {
   "cell_type": "code",
   "execution_count": 4,
   "metadata": {},
   "outputs": [
    {
     "data": {
      "text/plain": [
       "pandas.core.frame.DataFrame"
      ]
     },
     "execution_count": 4,
     "metadata": {},
     "output_type": "execute_result"
    }
   ],
   "source": [
    "type(apple)"
   ]
  },
  {
   "cell_type": "code",
   "execution_count": 5,
   "metadata": {},
   "outputs": [
    {
     "data": {
      "text/plain": [
       "(1240, 6)"
      ]
     },
     "execution_count": 5,
     "metadata": {},
     "output_type": "execute_result"
    }
   ],
   "source": [
    "apple.shape"
   ]
  },
  {
   "cell_type": "code",
   "execution_count": null,
   "metadata": {},
   "outputs": [],
   "source": []
  },
  {
   "cell_type": "code",
   "execution_count": 6,
   "metadata": {},
   "outputs": [
    {
     "data": {
      "text/html": [
       "<div>\n",
       "<style scoped>\n",
       "    .dataframe tbody tr th:only-of-type {\n",
       "        vertical-align: middle;\n",
       "    }\n",
       "\n",
       "    .dataframe tbody tr th {\n",
       "        vertical-align: top;\n",
       "    }\n",
       "\n",
       "    .dataframe thead th {\n",
       "        text-align: right;\n",
       "    }\n",
       "</style>\n",
       "<table border=\"1\" class=\"dataframe\">\n",
       "  <thead>\n",
       "    <tr style=\"text-align: right;\">\n",
       "      <th></th>\n",
       "      <th>High</th>\n",
       "      <th>Low</th>\n",
       "      <th>Open</th>\n",
       "      <th>Close</th>\n",
       "      <th>Volume</th>\n",
       "      <th>Adj Close</th>\n",
       "    </tr>\n",
       "    <tr>\n",
       "      <th>Date</th>\n",
       "      <th></th>\n",
       "      <th></th>\n",
       "      <th></th>\n",
       "      <th></th>\n",
       "      <th></th>\n",
       "      <th></th>\n",
       "    </tr>\n",
       "  </thead>\n",
       "  <tbody>\n",
       "    <tr>\n",
       "      <td>2015-01-02</td>\n",
       "      <td>111.440002</td>\n",
       "      <td>107.349998</td>\n",
       "      <td>111.389999</td>\n",
       "      <td>109.330002</td>\n",
       "      <td>53204600.0</td>\n",
       "      <td>100.454300</td>\n",
       "    </tr>\n",
       "    <tr>\n",
       "      <td>2015-01-05</td>\n",
       "      <td>108.650002</td>\n",
       "      <td>105.410004</td>\n",
       "      <td>108.290001</td>\n",
       "      <td>106.250000</td>\n",
       "      <td>64285500.0</td>\n",
       "      <td>97.624336</td>\n",
       "    </tr>\n",
       "    <tr>\n",
       "      <td>2015-01-06</td>\n",
       "      <td>107.430000</td>\n",
       "      <td>104.629997</td>\n",
       "      <td>106.540001</td>\n",
       "      <td>106.260002</td>\n",
       "      <td>65797100.0</td>\n",
       "      <td>97.633545</td>\n",
       "    </tr>\n",
       "    <tr>\n",
       "      <td>2015-01-07</td>\n",
       "      <td>108.199997</td>\n",
       "      <td>106.699997</td>\n",
       "      <td>107.199997</td>\n",
       "      <td>107.750000</td>\n",
       "      <td>40105900.0</td>\n",
       "      <td>99.002556</td>\n",
       "    </tr>\n",
       "    <tr>\n",
       "      <td>2015-01-08</td>\n",
       "      <td>112.150002</td>\n",
       "      <td>108.699997</td>\n",
       "      <td>109.230003</td>\n",
       "      <td>111.889999</td>\n",
       "      <td>59364500.0</td>\n",
       "      <td>102.806480</td>\n",
       "    </tr>\n",
       "  </tbody>\n",
       "</table>\n",
       "</div>"
      ],
      "text/plain": [
       "                  High         Low        Open       Close      Volume  \\\n",
       "Date                                                                     \n",
       "2015-01-02  111.440002  107.349998  111.389999  109.330002  53204600.0   \n",
       "2015-01-05  108.650002  105.410004  108.290001  106.250000  64285500.0   \n",
       "2015-01-06  107.430000  104.629997  106.540001  106.260002  65797100.0   \n",
       "2015-01-07  108.199997  106.699997  107.199997  107.750000  40105900.0   \n",
       "2015-01-08  112.150002  108.699997  109.230003  111.889999  59364500.0   \n",
       "\n",
       "             Adj Close  \n",
       "Date                    \n",
       "2015-01-02  100.454300  \n",
       "2015-01-05   97.624336  \n",
       "2015-01-06   97.633545  \n",
       "2015-01-07   99.002556  \n",
       "2015-01-08  102.806480  "
      ]
     },
     "execution_count": 6,
     "metadata": {},
     "output_type": "execute_result"
    }
   ],
   "source": [
    "apple.head()"
   ]
  },
  {
   "cell_type": "code",
   "execution_count": 7,
   "metadata": {},
   "outputs": [
    {
     "data": {
      "text/html": [
       "<div>\n",
       "<style scoped>\n",
       "    .dataframe tbody tr th:only-of-type {\n",
       "        vertical-align: middle;\n",
       "    }\n",
       "\n",
       "    .dataframe tbody tr th {\n",
       "        vertical-align: top;\n",
       "    }\n",
       "\n",
       "    .dataframe thead th {\n",
       "        text-align: right;\n",
       "    }\n",
       "</style>\n",
       "<table border=\"1\" class=\"dataframe\">\n",
       "  <thead>\n",
       "    <tr style=\"text-align: right;\">\n",
       "      <th></th>\n",
       "      <th>High</th>\n",
       "      <th>Low</th>\n",
       "      <th>Open</th>\n",
       "      <th>Close</th>\n",
       "      <th>Volume</th>\n",
       "      <th>Adj Close</th>\n",
       "    </tr>\n",
       "    <tr>\n",
       "      <th>Date</th>\n",
       "      <th></th>\n",
       "      <th></th>\n",
       "      <th></th>\n",
       "      <th></th>\n",
       "      <th></th>\n",
       "      <th></th>\n",
       "    </tr>\n",
       "  </thead>\n",
       "  <tbody>\n",
       "    <tr>\n",
       "      <td>2019-11-27</td>\n",
       "      <td>267.980011</td>\n",
       "      <td>265.309998</td>\n",
       "      <td>265.579987</td>\n",
       "      <td>267.839996</td>\n",
       "      <td>16308900.0</td>\n",
       "      <td>267.839996</td>\n",
       "    </tr>\n",
       "    <tr>\n",
       "      <td>2019-11-29</td>\n",
       "      <td>268.000000</td>\n",
       "      <td>265.899994</td>\n",
       "      <td>266.600006</td>\n",
       "      <td>267.250000</td>\n",
       "      <td>11654400.0</td>\n",
       "      <td>267.250000</td>\n",
       "    </tr>\n",
       "    <tr>\n",
       "      <td>2019-12-02</td>\n",
       "      <td>268.250000</td>\n",
       "      <td>263.450012</td>\n",
       "      <td>267.269989</td>\n",
       "      <td>264.160004</td>\n",
       "      <td>23621800.0</td>\n",
       "      <td>264.160004</td>\n",
       "    </tr>\n",
       "    <tr>\n",
       "      <td>2019-12-03</td>\n",
       "      <td>259.529999</td>\n",
       "      <td>256.290009</td>\n",
       "      <td>258.309998</td>\n",
       "      <td>259.450012</td>\n",
       "      <td>28607600.0</td>\n",
       "      <td>259.450012</td>\n",
       "    </tr>\n",
       "    <tr>\n",
       "      <td>2019-12-04</td>\n",
       "      <td>263.309998</td>\n",
       "      <td>260.679993</td>\n",
       "      <td>261.070007</td>\n",
       "      <td>261.739990</td>\n",
       "      <td>16795400.0</td>\n",
       "      <td>261.739990</td>\n",
       "    </tr>\n",
       "  </tbody>\n",
       "</table>\n",
       "</div>"
      ],
      "text/plain": [
       "                  High         Low        Open       Close      Volume  \\\n",
       "Date                                                                     \n",
       "2019-11-27  267.980011  265.309998  265.579987  267.839996  16308900.0   \n",
       "2019-11-29  268.000000  265.899994  266.600006  267.250000  11654400.0   \n",
       "2019-12-02  268.250000  263.450012  267.269989  264.160004  23621800.0   \n",
       "2019-12-03  259.529999  256.290009  258.309998  259.450012  28607600.0   \n",
       "2019-12-04  263.309998  260.679993  261.070007  261.739990  16795400.0   \n",
       "\n",
       "             Adj Close  \n",
       "Date                    \n",
       "2019-11-27  267.839996  \n",
       "2019-11-29  267.250000  \n",
       "2019-12-02  264.160004  \n",
       "2019-12-03  259.450012  \n",
       "2019-12-04  261.739990  "
      ]
     },
     "execution_count": 7,
     "metadata": {},
     "output_type": "execute_result"
    }
   ],
   "source": [
    "apple.tail()"
   ]
  },
  {
   "cell_type": "code",
   "execution_count": 8,
   "metadata": {},
   "outputs": [],
   "source": [
    "apple.to_csv('apple.csv',index=True)"
   ]
  },
  {
   "cell_type": "code",
   "execution_count": 9,
   "metadata": {},
   "outputs": [],
   "source": [
    "df = pd.read_csv('apple.csv')"
   ]
  },
  {
   "cell_type": "code",
   "execution_count": 10,
   "metadata": {},
   "outputs": [
    {
     "name": "stdout",
     "output_type": "stream",
     "text": [
      "         Date        High         Low        Open       Close      Volume  \\\n",
      "0  2015-01-02  111.440002  107.349998  111.389999  109.330002  53204600.0   \n",
      "1  2015-01-05  108.650002  105.410004  108.290001  106.250000  64285500.0   \n",
      "2  2015-01-06  107.430000  104.629997  106.540001  106.260002  65797100.0   \n",
      "3  2015-01-07  108.199997  106.699997  107.199997  107.750000  40105900.0   \n",
      "4  2015-01-08  112.150002  108.699997  109.230003  111.889999  59364500.0   \n",
      "\n",
      "    Adj Close  \n",
      "0  100.454300  \n",
      "1   97.624336  \n",
      "2   97.633545  \n",
      "3   99.002556  \n",
      "4  102.806480  \n",
      "\n",
      " Shape of the data:\n",
      "(1240, 7)\n"
     ]
    }
   ],
   "source": [
    "# looking at the first five rows of the data\n",
    "print(df.head())\n",
    "print('\\n Shape of the data:')\n",
    "print(df.shape)"
   ]
  },
  {
   "cell_type": "code",
   "execution_count": 11,
   "metadata": {},
   "outputs": [],
   "source": [
    "# setting the index as date\n",
    "df['Date'] = pd.to_datetime(df.Date,format='%Y-%m-%d')\n",
    "df.index = df['Date']"
   ]
  },
  {
   "cell_type": "code",
   "execution_count": 12,
   "metadata": {},
   "outputs": [],
   "source": [
    "#creating dataframe with date and the target variable\n",
    "data = df.sort_index(ascending=True, axis=0)\n",
    "new_data = pd.DataFrame(index=range(0,len(df)),columns=['Date', 'Close'])"
   ]
  },
  {
   "cell_type": "code",
   "execution_count": 13,
   "metadata": {},
   "outputs": [],
   "source": [
    "for i in range(0,len(data)):\n",
    "     new_data['Date'][i] = data['Date'][i]\n",
    "     new_data['Close'][i] = data['Close'][i]"
   ]
  },
  {
   "cell_type": "code",
   "execution_count": 14,
   "metadata": {},
   "outputs": [],
   "source": [
    "\n",
    "# splitting into train and validation\n",
    "train = new_data[:987]\n",
    "valid = new_data[987:]"
   ]
  },
  {
   "cell_type": "code",
   "execution_count": 15,
   "metadata": {
    "jupyter": {
     "source_hidden": true
    }
   },
   "outputs": [
    {
     "name": "stdout",
     "output_type": "stream",
     "text": [
      "\n",
      " Shape of training set:\n",
      "(987, 2)\n"
     ]
    }
   ],
   "source": [
    "# shapes of training set\n",
    "print('\\n Shape of training set:')\n",
    "print(train.shape)"
   ]
  },
  {
   "cell_type": "code",
   "execution_count": 16,
   "metadata": {},
   "outputs": [
    {
     "name": "stdout",
     "output_type": "stream",
     "text": [
      "\n",
      " Shape of validation set:\n",
      "(253, 2)\n"
     ]
    }
   ],
   "source": [
    "# shapes of validation set\n",
    "print('\\n Shape of validation set:')\n",
    "print(valid.shape)"
   ]
  },
  {
   "cell_type": "code",
   "execution_count": 17,
   "metadata": {},
   "outputs": [],
   "source": [
    "# In the next step, we will create predictions for the validation set\n",
    "# and check the RMSE using the actual values.\n",
    "\n",
    "# making predictions\n",
    "preds = []\n",
    "for i in range(0,valid.shape[0]):\n",
    "    a = train['Close'][len(train)-248+i:].sum() + sum(preds)\n",
    "    b = a/248\n",
    "    preds.append(b)"
   ]
  },
  {
   "cell_type": "code",
   "execution_count": 18,
   "metadata": {},
   "outputs": [
    {
     "name": "stdout",
     "output_type": "stream",
     "text": [
      "\n",
      " RMSE value on validation set:\n",
      "28.63752856488598\n"
     ]
    }
   ],
   "source": [
    "# checking the results (RMSE value)\n",
    "\n",
    "rms=np.sqrt(np.mean(np.power((np.array(valid['Close'])-preds),2)))\n",
    "print('\\n RMSE value on validation set:')\n",
    "print(rms)"
   ]
  },
  {
   "cell_type": "code",
   "execution_count": 19,
   "metadata": {},
   "outputs": [
    {
     "name": "stderr",
     "output_type": "stream",
     "text": [
      "/Users/Srivats6696/anaconda3/lib/python3.7/site-packages/ipykernel_launcher.py:2: SettingWithCopyWarning: \n",
      "A value is trying to be set on a copy of a slice from a DataFrame.\n",
      "Try using .loc[row_indexer,col_indexer] = value instead\n",
      "\n",
      "See the caveats in the documentation: http://pandas.pydata.org/pandas-docs/stable/user_guide/indexing.html#returning-a-view-versus-a-copy\n",
      "  \n",
      "/Users/Srivats6696/anaconda3/lib/python3.7/site-packages/ipykernel_launcher.py:3: SettingWithCopyWarning: \n",
      "A value is trying to be set on a copy of a slice from a DataFrame.\n",
      "Try using .loc[row_indexer,col_indexer] = value instead\n",
      "\n",
      "See the caveats in the documentation: http://pandas.pydata.org/pandas-docs/stable/user_guide/indexing.html#returning-a-view-versus-a-copy\n",
      "  This is separate from the ipykernel package so we can avoid doing imports until\n"
     ]
    },
    {
     "data": {
      "text/plain": [
       "[<matplotlib.lines.Line2D at 0x1035374e0>,\n",
       " <matplotlib.lines.Line2D at 0x103537668>]"
      ]
     },
     "execution_count": 19,
     "metadata": {},
     "output_type": "execute_result"
    },
    {
     "data": {
      "image/png": "[encoded data removed]",
      "text/plain": [
       "<Figure size 1008x432 with 1 Axes>"
      ]
     },
     "metadata": {
      "needs_background": "light"
     },
     "output_type": "display_data"
    }
   ],
   "source": [
    "#plot\n",
    "valid['Predictions'] = 0\n",
    "valid['Predictions'] = preds\n",
    "\n",
    "plt.figure(figsize=(14,6))\n",
    "\n",
    "plt.plot(train['Close'])\n",
    "plt.plot(valid[['Close', 'Predictions']])"
   ]
  },
  {
   "cell_type": "markdown",
   "metadata": {},
   "source": [
    "The RMSE value is close to 190 but the results are not very promising (as you can gather from the plot). The predicted values are of the same range as the observed values in the train set (there is an increasing trend initially and then a slow decrease).\n",
    "\n"
   ]
  },
  {
   "cell_type": "markdown",
   "metadata": {},
   "source": [
    "In the next section, we will look at two commonly used machine learning techniques – Linear Regression and kNN, and see how they perform on our stock market data."
   ]
  },
  {
   "cell_type": "markdown",
   "metadata": {},
   "source": [
    "# Linear Regression"
   ]
  },
  {
   "cell_type": "code",
   "execution_count": 20,
   "metadata": {},
   "outputs": [],
   "source": [
    "# #setting index as date values\n",
    "# df['Date'] = pd.to_datetime(df.Date,format='%Y-%m-%d')\n",
    "# df.index = df['Date']\n",
    "\n",
    "# #sorting\n",
    "# data = df.sort_index(ascending=True, axis=0)\n",
    "\n",
    "# #creating a separate dataset\n",
    "# new_data = pd.DataFrame(index=range(0,len(df)),columns=['Date', 'Close'])\n",
    "\n",
    "# for i in range(0,len(data)):\n",
    "#     new_data['Date'][i] = data['Date'][i]\n",
    "#     new_data['Close'][i] = data['Close'][i]"
   ]
  },
  {
   "cell_type": "code",
   "execution_count": 21,
   "metadata": {},
   "outputs": [],
   "source": [
    "# from structured import *\n",
    "\n",
    "def add_datepart(df, fldname, drop=True):\n",
    "    fld = df[fldname]\n",
    "    if not np.issubdtype(fld.dtype, np.datetime64):\n",
    "        df[fldname] = fld = pd.to_datetime(fld, infer_datetime_format=True)\n",
    "    targ_pre = re.sub('[Dd]ate$', '', fldname)\n",
    "    for n in ('Year', 'Month', 'Week', 'Day', 'Dayofweek', 'Dayofyear',\n",
    "            'Is_month_end', 'Is_month_start', 'Is_quarter_end', 'Is_quarter_start', 'Is_year_end', 'Is_year_start'):\n",
    "        df[targ_pre+n] = getattr(fld.dt,n.lower())\n",
    "    df[targ_pre+'Elapsed'] = fld.astype(np.int64) // 10**9\n",
    "    if drop: df.drop(fldname, axis=1, inplace=True)"
   ]
  },
  {
   "cell_type": "markdown",
   "metadata": {},
   "source": [
    "We are going to create features like \n",
    "\n",
    "‘Year’, ‘Month’, ‘Week’, ‘Day’, ‘Dayofweek’, ‘Dayofyear’, ‘Is_month_end’, ‘Is_month_start’, ‘Is_quarter_end’, ‘Is_quarter_start’,  ‘Is_year_end’, and  ‘Is_year_start’."
   ]
  },
  {
   "cell_type": "code",
   "execution_count": 22,
   "metadata": {},
   "outputs": [],
   "source": [
    "#create features\n",
    "\n",
    "add_datepart(new_data, 'Date',drop=True)\n",
    "new_data.drop('Elapsed', axis=1, inplace=True) \n",
    "\n",
    "#elapsed will be the time stamp"
   ]
  },
  {
   "cell_type": "code",
   "execution_count": 23,
   "metadata": {},
   "outputs": [],
   "source": [
    "# new_data['mon_fri'] = 0\n",
    "# for i in range(0,len(new_data)):\n",
    "#     if (new_data['Dayofweek'][i] == 0 or new_data['Dayofweek'][i] == 4):\n",
    "#         new_data['mon_fri'][i] = 1\n",
    "#     else:\n",
    "#         new_data['mon_fri'][i] = 0"
   ]
  },
  {
   "cell_type": "code",
   "execution_count": 24,
   "metadata": {},
   "outputs": [
    {
     "data": {
      "text/html": [
       "<div>\n",
       "<style scoped>\n",
       "    .dataframe tbody tr th:only-of-type {\n",
       "        vertical-align: middle;\n",
       "    }\n",
       "\n",
       "    .dataframe tbody tr th {\n",
       "        vertical-align: top;\n",
       "    }\n",
       "\n",
       "    .dataframe thead th {\n",
       "        text-align: right;\n",
       "    }\n",
       "</style>\n",
       "<table border=\"1\" class=\"dataframe\">\n",
       "  <thead>\n",
       "    <tr style=\"text-align: right;\">\n",
       "      <th></th>\n",
       "      <th>Close</th>\n",
       "      <th>Year</th>\n",
       "      <th>Month</th>\n",
       "      <th>Week</th>\n",
       "      <th>Day</th>\n",
       "      <th>Dayofweek</th>\n",
       "      <th>Dayofyear</th>\n",
       "      <th>Is_month_end</th>\n",
       "      <th>Is_month_start</th>\n",
       "      <th>Is_quarter_end</th>\n",
       "      <th>Is_quarter_start</th>\n",
       "      <th>Is_year_end</th>\n",
       "      <th>Is_year_start</th>\n",
       "    </tr>\n",
       "  </thead>\n",
       "  <tbody>\n",
       "    <tr>\n",
       "      <td>0</td>\n",
       "      <td>109.33</td>\n",
       "      <td>2015</td>\n",
       "      <td>1</td>\n",
       "      <td>1</td>\n",
       "      <td>2</td>\n",
       "      <td>4</td>\n",
       "      <td>2</td>\n",
       "      <td>False</td>\n",
       "      <td>False</td>\n",
       "      <td>False</td>\n",
       "      <td>False</td>\n",
       "      <td>False</td>\n",
       "      <td>False</td>\n",
       "    </tr>\n",
       "    <tr>\n",
       "      <td>1</td>\n",
       "      <td>106.25</td>\n",
       "      <td>2015</td>\n",
       "      <td>1</td>\n",
       "      <td>2</td>\n",
       "      <td>5</td>\n",
       "      <td>0</td>\n",
       "      <td>5</td>\n",
       "      <td>False</td>\n",
       "      <td>False</td>\n",
       "      <td>False</td>\n",
       "      <td>False</td>\n",
       "      <td>False</td>\n",
       "      <td>False</td>\n",
       "    </tr>\n",
       "    <tr>\n",
       "      <td>2</td>\n",
       "      <td>106.26</td>\n",
       "      <td>2015</td>\n",
       "      <td>1</td>\n",
       "      <td>2</td>\n",
       "      <td>6</td>\n",
       "      <td>1</td>\n",
       "      <td>6</td>\n",
       "      <td>False</td>\n",
       "      <td>False</td>\n",
       "      <td>False</td>\n",
       "      <td>False</td>\n",
       "      <td>False</td>\n",
       "      <td>False</td>\n",
       "    </tr>\n",
       "    <tr>\n",
       "      <td>3</td>\n",
       "      <td>107.75</td>\n",
       "      <td>2015</td>\n",
       "      <td>1</td>\n",
       "      <td>2</td>\n",
       "      <td>7</td>\n",
       "      <td>2</td>\n",
       "      <td>7</td>\n",
       "      <td>False</td>\n",
       "      <td>False</td>\n",
       "      <td>False</td>\n",
       "      <td>False</td>\n",
       "      <td>False</td>\n",
       "      <td>False</td>\n",
       "    </tr>\n",
       "    <tr>\n",
       "      <td>4</td>\n",
       "      <td>111.89</td>\n",
       "      <td>2015</td>\n",
       "      <td>1</td>\n",
       "      <td>2</td>\n",
       "      <td>8</td>\n",
       "      <td>3</td>\n",
       "      <td>8</td>\n",
       "      <td>False</td>\n",
       "      <td>False</td>\n",
       "      <td>False</td>\n",
       "      <td>False</td>\n",
       "      <td>False</td>\n",
       "      <td>False</td>\n",
       "    </tr>\n",
       "  </tbody>\n",
       "</table>\n",
       "</div>"
      ],
      "text/plain": [
       "    Close  Year  Month  Week  Day  Dayofweek  Dayofyear  Is_month_end  \\\n",
       "0  109.33  2015      1     1    2          4          2         False   \n",
       "1  106.25  2015      1     2    5          0          5         False   \n",
       "2  106.26  2015      1     2    6          1          6         False   \n",
       "3  107.75  2015      1     2    7          2          7         False   \n",
       "4  111.89  2015      1     2    8          3          8         False   \n",
       "\n",
       "   Is_month_start  Is_quarter_end  Is_quarter_start  Is_year_end  \\\n",
       "0           False           False             False        False   \n",
       "1           False           False             False        False   \n",
       "2           False           False             False        False   \n",
       "3           False           False             False        False   \n",
       "4           False           False             False        False   \n",
       "\n",
       "   Is_year_start  \n",
       "0          False  \n",
       "1          False  \n",
       "2          False  \n",
       "3          False  \n",
       "4          False  "
      ]
     },
     "execution_count": 24,
     "metadata": {},
     "output_type": "execute_result"
    }
   ],
   "source": [
    "new_data.head()"
   ]
  },
  {
   "cell_type": "markdown",
   "metadata": {},
   "source": [
    "We will now split the data into train and validation sets to check the performance of the model."
   ]
  },
  {
   "cell_type": "code",
   "execution_count": 25,
   "metadata": {},
   "outputs": [
    {
     "data": {
      "text/plain": [
       "LinearRegression(copy_X=True, fit_intercept=True, n_jobs=None, normalize=False)"
      ]
     },
     "execution_count": 25,
     "metadata": {},
     "output_type": "execute_result"
    }
   ],
   "source": [
    "#split into train and validation\n",
    "train = new_data[:987]\n",
    "valid = new_data[987:]\n",
    "\n",
    "x_train = train.drop('Close', axis=1)\n",
    "y_train = train['Close']\n",
    "x_valid = valid.drop('Close', axis=1)\n",
    "y_valid = valid['Close']\n",
    "\n",
    "model = LinearRegression()\n",
    "model.fit(x_train,y_train)"
   ]
  },
  {
   "cell_type": "code",
   "execution_count": 26,
   "metadata": {},
   "outputs": [
    {
     "data": {
      "text/plain": [
       "177.1974996289641"
      ]
     },
     "execution_count": 26,
     "metadata": {},
     "output_type": "execute_result"
    }
   ],
   "source": [
    "#make predictions and find the rmse\n",
    "\n",
    "preds_LR = model.predict(x_valid)\n",
    "rms=np.sqrt(np.mean(np.power((np.array(y_valid)-np.array(preds_LR)),2)))\n",
    "rms"
   ]
  },
  {
   "cell_type": "markdown",
   "metadata": {},
   "source": [
    "The RMSE value is approximately the same as the technique, which clearly shows that linear regression has performed poorly. \n",
    "\n"
   ]
  },
  {
   "cell_type": "code",
   "execution_count": 27,
   "metadata": {},
   "outputs": [
    {
     "name": "stderr",
     "output_type": "stream",
     "text": [
      "/Users/Srivats6696/anaconda3/lib/python3.7/site-packages/ipykernel_launcher.py:4: SettingWithCopyWarning: \n",
      "A value is trying to be set on a copy of a slice from a DataFrame.\n",
      "Try using .loc[row_indexer,col_indexer] = value instead\n",
      "\n",
      "See the caveats in the documentation: http://pandas.pydata.org/pandas-docs/stable/user_guide/indexing.html#returning-a-view-versus-a-copy\n",
      "  after removing the cwd from sys.path.\n",
      "/Users/Srivats6696/anaconda3/lib/python3.7/site-packages/ipykernel_launcher.py:5: SettingWithCopyWarning: \n",
      "A value is trying to be set on a copy of a slice from a DataFrame.\n",
      "Try using .loc[row_indexer,col_indexer] = value instead\n",
      "\n",
      "See the caveats in the documentation: http://pandas.pydata.org/pandas-docs/stable/user_guide/indexing.html#returning-a-view-versus-a-copy\n",
      "  \"\"\"\n"
     ]
    },
    {
     "data": {
      "text/plain": [
       "Text(0.5, 0, '')"
      ]
     },
     "execution_count": 27,
     "metadata": {},
     "output_type": "execute_result"
    },
    {
     "data": {
      "image/png": "[encoded data removed]",
      "text/plain": [
       "<Figure size 1152x576 with 1 Axes>"
      ]
     },
     "metadata": {
      "needs_background": "light"
     },
     "output_type": "display_data"
    }
   ],
   "source": [
    "#plot\n",
    "\n",
    "plt.figure(figsize=(16,8))\n",
    "valid['Predictions'] = 0\n",
    "valid['Predictions'] = preds\n",
    "\n",
    "valid.index = new_data[987:].index\n",
    "train.index = new_data[:987].index\n",
    "\n",
    "plt.plot(train['Close'])\n",
    "plt.plot(valid[['Close', 'Predictions']])\n",
    "plt.xlabel('')"
   ]
  },
  {
   "cell_type": "markdown",
   "metadata": {},
   "source": [
    "Linear regression is a simple technique and quite easy to interpret, but there are a few obvious disadvantages.\n",
    "\n",
    "One problem in using regression algorithms is that the model overfits to the date and month column. \n",
    "\n",
    "Instead of taking into account the previous values from the point of prediction,the model will consider the value from the same date a month ago, or the same date/month a year ago."
   ]
  },
  {
   "cell_type": "markdown",
   "metadata": {},
   "source": [
    "# k-Nearest Neighbours"
   ]
  },
  {
   "cell_type": "markdown",
   "metadata": {},
   "source": [
    "Based on the independent variables, kNN finds the similarity between new data points and old data points."
   ]
  },
  {
   "cell_type": "code",
   "execution_count": 28,
   "metadata": {},
   "outputs": [],
   "source": [
    "scaler = MinMaxScaler(feature_range=(0, 1))"
   ]
  },
  {
   "cell_type": "markdown",
   "metadata": {},
   "source": [
    "using the same data for training and validation from previous algorithms "
   ]
  },
  {
   "cell_type": "code",
   "execution_count": 29,
   "metadata": {},
   "outputs": [
    {
     "name": "stderr",
     "output_type": "stream",
     "text": [
      "/Users/Srivats6696/anaconda3/lib/python3.7/site-packages/sklearn/model_selection/_search.py:814: DeprecationWarning: The default of the `iid` parameter will change from True to False in version 0.22 and will be removed in 0.24. This will change numeric results when test-set sizes are unequal.\n",
      "  DeprecationWarning)\n"
     ]
    }
   ],
   "source": [
    "#scaling data\n",
    "\n",
    "x_train_scaled = scaler.fit_transform(x_train)\n",
    "x_train = pd.DataFrame(x_train_scaled)\n",
    "x_valid_scaled = scaler.fit_transform(x_valid)\n",
    "x_valid = pd.DataFrame(x_valid_scaled)\n",
    "\n",
    "#using gridsearch to find the best parameter\n",
    "\n",
    "params = {'n_neighbors':[1,2,3,4,5,6,7,8,9,10,11,12,13,14,15]}\n",
    "knn = neighbors.KNeighborsRegressor()\n",
    "model = GridSearchCV(knn, params, cv=5)\n",
    "\n",
    "#fit the model and make predictions\n",
    "\n",
    "model.fit(x_train,y_train)\n",
    "preds_KNN = model.predict(x_valid)"
   ]
  },
  {
   "cell_type": "code",
   "execution_count": 30,
   "metadata": {},
   "outputs": [
    {
     "data": {
      "text/plain": [
       "253"
      ]
     },
     "execution_count": 30,
     "metadata": {},
     "output_type": "execute_result"
    }
   ],
   "source": [
    "preds_KNN.size"
   ]
  },
  {
   "cell_type": "code",
   "execution_count": 31,
   "metadata": {},
   "outputs": [
    {
     "data": {
      "text/plain": [
       "28.63752856488598"
      ]
     },
     "execution_count": 31,
     "metadata": {},
     "output_type": "execute_result"
    }
   ],
   "source": [
    "#rmse\n",
    "\n",
    "rms=np.sqrt(np.mean(np.power((np.array(y_valid)-np.array(preds)),2)))\n",
    "rms"
   ]
  },
  {
   "cell_type": "code",
   "execution_count": 32,
   "metadata": {},
   "outputs": [
    {
     "name": "stderr",
     "output_type": "stream",
     "text": [
      "/Users/Srivats6696/anaconda3/lib/python3.7/site-packages/ipykernel_launcher.py:4: SettingWithCopyWarning: \n",
      "A value is trying to be set on a copy of a slice from a DataFrame.\n",
      "Try using .loc[row_indexer,col_indexer] = value instead\n",
      "\n",
      "See the caveats in the documentation: http://pandas.pydata.org/pandas-docs/stable/user_guide/indexing.html#returning-a-view-versus-a-copy\n",
      "  after removing the cwd from sys.path.\n",
      "/Users/Srivats6696/anaconda3/lib/python3.7/site-packages/ipykernel_launcher.py:5: SettingWithCopyWarning: \n",
      "A value is trying to be set on a copy of a slice from a DataFrame.\n",
      "Try using .loc[row_indexer,col_indexer] = value instead\n",
      "\n",
      "See the caveats in the documentation: http://pandas.pydata.org/pandas-docs/stable/user_guide/indexing.html#returning-a-view-versus-a-copy\n",
      "  \"\"\"\n"
     ]
    },
    {
     "data": {
      "text/plain": [
       "[<matplotlib.lines.Line2D at 0x1a19889668>]"
      ]
     },
     "execution_count": 32,
     "metadata": {},
     "output_type": "execute_result"
    },
    {
     "data": {
      "image/png": "[encoded data removed]",
      "text/plain": [
       "<Figure size 1152x576 with 1 Axes>"
      ]
     },
     "metadata": {
      "needs_background": "light"
     },
     "output_type": "display_data"
    }
   ],
   "source": [
    "#plot\n",
    "\n",
    "plt.figure(figsize=(16,8))\n",
    "valid['Predictions'] = 0\n",
    "valid['Predictions'] = preds_KNN\n",
    "plt.plot(valid[['Close', 'Predictions']])\n",
    "plt.plot(train['Close'])"
   ]
  },
  {
   "cell_type": "code",
   "execution_count": 33,
   "metadata": {},
   "outputs": [
    {
     "data": {
      "text/html": [
       "<div>\n",
       "<style scoped>\n",
       "    .dataframe tbody tr th:only-of-type {\n",
       "        vertical-align: middle;\n",
       "    }\n",
       "\n",
       "    .dataframe tbody tr th {\n",
       "        vertical-align: top;\n",
       "    }\n",
       "\n",
       "    .dataframe thead th {\n",
       "        text-align: right;\n",
       "    }\n",
       "</style>\n",
       "<table border=\"1\" class=\"dataframe\">\n",
       "  <thead>\n",
       "    <tr style=\"text-align: right;\">\n",
       "      <th></th>\n",
       "      <th>High</th>\n",
       "      <th>Low</th>\n",
       "      <th>Open</th>\n",
       "      <th>Close</th>\n",
       "      <th>Volume</th>\n",
       "      <th>Adj Close</th>\n",
       "    </tr>\n",
       "    <tr>\n",
       "      <th>Date</th>\n",
       "      <th></th>\n",
       "      <th></th>\n",
       "      <th></th>\n",
       "      <th></th>\n",
       "      <th></th>\n",
       "      <th></th>\n",
       "    </tr>\n",
       "  </thead>\n",
       "  <tbody>\n",
       "    <tr>\n",
       "      <td>2019-11-27</td>\n",
       "      <td>267.980011</td>\n",
       "      <td>265.309998</td>\n",
       "      <td>265.579987</td>\n",
       "      <td>267.839996</td>\n",
       "      <td>16308900.0</td>\n",
       "      <td>267.839996</td>\n",
       "    </tr>\n",
       "    <tr>\n",
       "      <td>2019-11-29</td>\n",
       "      <td>268.000000</td>\n",
       "      <td>265.899994</td>\n",
       "      <td>266.600006</td>\n",
       "      <td>267.250000</td>\n",
       "      <td>11654400.0</td>\n",
       "      <td>267.250000</td>\n",
       "    </tr>\n",
       "    <tr>\n",
       "      <td>2019-12-02</td>\n",
       "      <td>268.250000</td>\n",
       "      <td>263.450012</td>\n",
       "      <td>267.269989</td>\n",
       "      <td>264.160004</td>\n",
       "      <td>23621800.0</td>\n",
       "      <td>264.160004</td>\n",
       "    </tr>\n",
       "    <tr>\n",
       "      <td>2019-12-03</td>\n",
       "      <td>259.529999</td>\n",
       "      <td>256.290009</td>\n",
       "      <td>258.309998</td>\n",
       "      <td>259.450012</td>\n",
       "      <td>28607600.0</td>\n",
       "      <td>259.450012</td>\n",
       "    </tr>\n",
       "    <tr>\n",
       "      <td>2019-12-04</td>\n",
       "      <td>263.309998</td>\n",
       "      <td>260.679993</td>\n",
       "      <td>261.070007</td>\n",
       "      <td>261.739990</td>\n",
       "      <td>16795400.0</td>\n",
       "      <td>261.739990</td>\n",
       "    </tr>\n",
       "  </tbody>\n",
       "</table>\n",
       "</div>"
      ],
      "text/plain": [
       "                  High         Low        Open       Close      Volume  \\\n",
       "Date                                                                     \n",
       "2019-11-27  267.980011  265.309998  265.579987  267.839996  16308900.0   \n",
       "2019-11-29  268.000000  265.899994  266.600006  267.250000  11654400.0   \n",
       "2019-12-02  268.250000  263.450012  267.269989  264.160004  23621800.0   \n",
       "2019-12-03  259.529999  256.290009  258.309998  259.450012  28607600.0   \n",
       "2019-12-04  263.309998  260.679993  261.070007  261.739990  16795400.0   \n",
       "\n",
       "             Adj Close  \n",
       "Date                    \n",
       "2019-11-27  267.839996  \n",
       "2019-11-29  267.250000  \n",
       "2019-12-02  264.160004  \n",
       "2019-12-03  259.450012  \n",
       "2019-12-04  261.739990  "
      ]
     },
     "execution_count": 33,
     "metadata": {},
     "output_type": "execute_result"
    }
   ],
   "source": [
    "apple.tail()"
   ]
  },
  {
   "cell_type": "code",
   "execution_count": 34,
   "metadata": {},
   "outputs": [
    {
     "data": {
      "text/html": [
       "<div>\n",
       "<style scoped>\n",
       "    .dataframe tbody tr th:only-of-type {\n",
       "        vertical-align: middle;\n",
       "    }\n",
       "\n",
       "    .dataframe tbody tr th {\n",
       "        vertical-align: top;\n",
       "    }\n",
       "\n",
       "    .dataframe thead th {\n",
       "        text-align: right;\n",
       "    }\n",
       "</style>\n",
       "<table border=\"1\" class=\"dataframe\">\n",
       "  <thead>\n",
       "    <tr style=\"text-align: right;\">\n",
       "      <th></th>\n",
       "      <th>High</th>\n",
       "      <th>Low</th>\n",
       "      <th>Open</th>\n",
       "      <th>Close</th>\n",
       "      <th>Volume</th>\n",
       "      <th>Adj Close</th>\n",
       "    </tr>\n",
       "    <tr>\n",
       "      <th>Date</th>\n",
       "      <th></th>\n",
       "      <th></th>\n",
       "      <th></th>\n",
       "      <th></th>\n",
       "      <th></th>\n",
       "      <th></th>\n",
       "    </tr>\n",
       "  </thead>\n",
       "  <tbody>\n",
       "    <tr>\n",
       "      <td>2015-01-02</td>\n",
       "      <td>111.440002</td>\n",
       "      <td>107.349998</td>\n",
       "      <td>111.389999</td>\n",
       "      <td>109.330002</td>\n",
       "      <td>53204600.0</td>\n",
       "      <td>100.454300</td>\n",
       "    </tr>\n",
       "    <tr>\n",
       "      <td>2015-01-05</td>\n",
       "      <td>108.650002</td>\n",
       "      <td>105.410004</td>\n",
       "      <td>108.290001</td>\n",
       "      <td>106.250000</td>\n",
       "      <td>64285500.0</td>\n",
       "      <td>97.624336</td>\n",
       "    </tr>\n",
       "    <tr>\n",
       "      <td>2015-01-06</td>\n",
       "      <td>107.430000</td>\n",
       "      <td>104.629997</td>\n",
       "      <td>106.540001</td>\n",
       "      <td>106.260002</td>\n",
       "      <td>65797100.0</td>\n",
       "      <td>97.633545</td>\n",
       "    </tr>\n",
       "    <tr>\n",
       "      <td>2015-01-07</td>\n",
       "      <td>108.199997</td>\n",
       "      <td>106.699997</td>\n",
       "      <td>107.199997</td>\n",
       "      <td>107.750000</td>\n",
       "      <td>40105900.0</td>\n",
       "      <td>99.002556</td>\n",
       "    </tr>\n",
       "    <tr>\n",
       "      <td>2015-01-08</td>\n",
       "      <td>112.150002</td>\n",
       "      <td>108.699997</td>\n",
       "      <td>109.230003</td>\n",
       "      <td>111.889999</td>\n",
       "      <td>59364500.0</td>\n",
       "      <td>102.806480</td>\n",
       "    </tr>\n",
       "  </tbody>\n",
       "</table>\n",
       "</div>"
      ],
      "text/plain": [
       "                  High         Low        Open       Close      Volume  \\\n",
       "Date                                                                     \n",
       "2015-01-02  111.440002  107.349998  111.389999  109.330002  53204600.0   \n",
       "2015-01-05  108.650002  105.410004  108.290001  106.250000  64285500.0   \n",
       "2015-01-06  107.430000  104.629997  106.540001  106.260002  65797100.0   \n",
       "2015-01-07  108.199997  106.699997  107.199997  107.750000  40105900.0   \n",
       "2015-01-08  112.150002  108.699997  109.230003  111.889999  59364500.0   \n",
       "\n",
       "             Adj Close  \n",
       "Date                    \n",
       "2015-01-02  100.454300  \n",
       "2015-01-05   97.624336  \n",
       "2015-01-06   97.633545  \n",
       "2015-01-07   99.002556  \n",
       "2015-01-08  102.806480  "
      ]
     },
     "execution_count": 34,
     "metadata": {},
     "output_type": "execute_result"
    }
   ],
   "source": [
    "apple.head()"
   ]
  },
  {
   "cell_type": "markdown",
   "metadata": {},
   "source": [
    "We can safely say that regression algorithms have not performed well on this dataset."
   ]
  },
  {
   "cell_type": "markdown",
   "metadata": {},
   "source": [
    "# Time Series and Seasonality Using Prophet "
   ]
  },
  {
   "cell_type": "code",
   "execution_count": 1,
   "metadata": {},
   "outputs": [],
   "source": [
    "# from fbprophet import Prophet"
   ]
  },
  {
   "cell_type": "code",
   "execution_count": null,
   "metadata": {},
   "outputs": [],
   "source": []
  },
  {
   "cell_type": "code",
   "execution_count": 36,
   "metadata": {
    "collapsed": true,
    "jupyter": {
     "outputs_hidden": true
    }
   },
   "outputs": [
    {
     "data": {
      "text/html": [
       "<div>\n",
       "<style scoped>\n",
       "    .dataframe tbody tr th:only-of-type {\n",
       "        vertical-align: middle;\n",
       "    }\n",
       "\n",
       "    .dataframe tbody tr th {\n",
       "        vertical-align: top;\n",
       "    }\n",
       "\n",
       "    .dataframe thead th {\n",
       "        text-align: right;\n",
       "    }\n",
       "</style>\n",
       "<table border=\"1\" class=\"dataframe\">\n",
       "  <thead>\n",
       "    <tr style=\"text-align: right;\">\n",
       "      <th></th>\n",
       "      <th>High</th>\n",
       "      <th>Low</th>\n",
       "      <th>Open</th>\n",
       "      <th>Close</th>\n",
       "      <th>Volume</th>\n",
       "      <th>Adj Close</th>\n",
       "    </tr>\n",
       "    <tr>\n",
       "      <th>Date</th>\n",
       "      <th></th>\n",
       "      <th></th>\n",
       "      <th></th>\n",
       "      <th></th>\n",
       "      <th></th>\n",
       "      <th></th>\n",
       "    </tr>\n",
       "  </thead>\n",
       "  <tbody>\n",
       "    <tr>\n",
       "      <td>2017-08-24</td>\n",
       "      <td>160.740005</td>\n",
       "      <td>158.550003</td>\n",
       "      <td>160.429993</td>\n",
       "      <td>159.270004</td>\n",
       "      <td>19818900.0</td>\n",
       "      <td>154.037735</td>\n",
       "    </tr>\n",
       "    <tr>\n",
       "      <td>2017-08-25</td>\n",
       "      <td>160.559998</td>\n",
       "      <td>159.270004</td>\n",
       "      <td>159.649994</td>\n",
       "      <td>159.860001</td>\n",
       "      <td>25480100.0</td>\n",
       "      <td>154.608353</td>\n",
       "    </tr>\n",
       "    <tr>\n",
       "      <td>2017-08-28</td>\n",
       "      <td>162.000000</td>\n",
       "      <td>159.929993</td>\n",
       "      <td>160.139999</td>\n",
       "      <td>161.470001</td>\n",
       "      <td>25966000.0</td>\n",
       "      <td>156.165451</td>\n",
       "    </tr>\n",
       "    <tr>\n",
       "      <td>2017-08-29</td>\n",
       "      <td>163.119995</td>\n",
       "      <td>160.000000</td>\n",
       "      <td>160.100006</td>\n",
       "      <td>162.910004</td>\n",
       "      <td>29516900.0</td>\n",
       "      <td>157.558167</td>\n",
       "    </tr>\n",
       "    <tr>\n",
       "      <td>2017-08-30</td>\n",
       "      <td>163.889999</td>\n",
       "      <td>162.610001</td>\n",
       "      <td>163.800003</td>\n",
       "      <td>163.350006</td>\n",
       "      <td>27269600.0</td>\n",
       "      <td>157.983704</td>\n",
       "    </tr>\n",
       "    <tr>\n",
       "      <td>2017-08-31</td>\n",
       "      <td>164.520004</td>\n",
       "      <td>163.479996</td>\n",
       "      <td>163.639999</td>\n",
       "      <td>164.000000</td>\n",
       "      <td>26785100.0</td>\n",
       "      <td>158.612350</td>\n",
       "    </tr>\n",
       "    <tr>\n",
       "      <td>2017-09-01</td>\n",
       "      <td>164.940002</td>\n",
       "      <td>163.630005</td>\n",
       "      <td>164.800003</td>\n",
       "      <td>164.050003</td>\n",
       "      <td>16591100.0</td>\n",
       "      <td>158.660706</td>\n",
       "    </tr>\n",
       "    <tr>\n",
       "      <td>2017-09-05</td>\n",
       "      <td>164.250000</td>\n",
       "      <td>160.559998</td>\n",
       "      <td>163.750000</td>\n",
       "      <td>162.080002</td>\n",
       "      <td>29468500.0</td>\n",
       "      <td>156.755432</td>\n",
       "    </tr>\n",
       "    <tr>\n",
       "      <td>2017-09-06</td>\n",
       "      <td>162.990005</td>\n",
       "      <td>160.520004</td>\n",
       "      <td>162.710007</td>\n",
       "      <td>161.910004</td>\n",
       "      <td>21651700.0</td>\n",
       "      <td>156.590988</td>\n",
       "    </tr>\n",
       "    <tr>\n",
       "      <td>2017-09-07</td>\n",
       "      <td>162.240005</td>\n",
       "      <td>160.360001</td>\n",
       "      <td>162.089996</td>\n",
       "      <td>161.259995</td>\n",
       "      <td>21928500.0</td>\n",
       "      <td>155.962341</td>\n",
       "    </tr>\n",
       "    <tr>\n",
       "      <td>2017-09-08</td>\n",
       "      <td>161.149994</td>\n",
       "      <td>158.529999</td>\n",
       "      <td>160.860001</td>\n",
       "      <td>158.630005</td>\n",
       "      <td>28611500.0</td>\n",
       "      <td>153.418777</td>\n",
       "    </tr>\n",
       "    <tr>\n",
       "      <td>2017-09-11</td>\n",
       "      <td>162.050003</td>\n",
       "      <td>159.889999</td>\n",
       "      <td>160.500000</td>\n",
       "      <td>161.500000</td>\n",
       "      <td>31580800.0</td>\n",
       "      <td>156.194489</td>\n",
       "    </tr>\n",
       "    <tr>\n",
       "      <td>2017-09-12</td>\n",
       "      <td>163.960007</td>\n",
       "      <td>158.770004</td>\n",
       "      <td>162.610001</td>\n",
       "      <td>160.860001</td>\n",
       "      <td>71714000.0</td>\n",
       "      <td>155.575516</td>\n",
       "    </tr>\n",
       "    <tr>\n",
       "      <td>2017-09-13</td>\n",
       "      <td>159.960007</td>\n",
       "      <td>157.910004</td>\n",
       "      <td>159.869995</td>\n",
       "      <td>159.649994</td>\n",
       "      <td>44907400.0</td>\n",
       "      <td>154.405258</td>\n",
       "    </tr>\n",
       "    <tr>\n",
       "      <td>2017-09-14</td>\n",
       "      <td>159.399994</td>\n",
       "      <td>158.089996</td>\n",
       "      <td>158.990005</td>\n",
       "      <td>158.279999</td>\n",
       "      <td>23760700.0</td>\n",
       "      <td>153.080246</td>\n",
       "    </tr>\n",
       "    <tr>\n",
       "      <td>2017-09-15</td>\n",
       "      <td>160.970001</td>\n",
       "      <td>158.000000</td>\n",
       "      <td>158.470001</td>\n",
       "      <td>159.880005</td>\n",
       "      <td>49114600.0</td>\n",
       "      <td>154.627701</td>\n",
       "    </tr>\n",
       "    <tr>\n",
       "      <td>2017-09-18</td>\n",
       "      <td>160.500000</td>\n",
       "      <td>158.000000</td>\n",
       "      <td>160.110001</td>\n",
       "      <td>158.669998</td>\n",
       "      <td>28269400.0</td>\n",
       "      <td>153.457443</td>\n",
       "    </tr>\n",
       "    <tr>\n",
       "      <td>2017-09-19</td>\n",
       "      <td>159.770004</td>\n",
       "      <td>158.440002</td>\n",
       "      <td>159.509995</td>\n",
       "      <td>158.729996</td>\n",
       "      <td>20810600.0</td>\n",
       "      <td>153.515472</td>\n",
       "    </tr>\n",
       "    <tr>\n",
       "      <td>2017-09-20</td>\n",
       "      <td>158.259995</td>\n",
       "      <td>153.830002</td>\n",
       "      <td>157.899994</td>\n",
       "      <td>156.070007</td>\n",
       "      <td>52951400.0</td>\n",
       "      <td>150.942871</td>\n",
       "    </tr>\n",
       "    <tr>\n",
       "      <td>2017-09-21</td>\n",
       "      <td>155.800003</td>\n",
       "      <td>152.750000</td>\n",
       "      <td>155.800003</td>\n",
       "      <td>153.389999</td>\n",
       "      <td>37511700.0</td>\n",
       "      <td>148.350891</td>\n",
       "    </tr>\n",
       "    <tr>\n",
       "      <td>2017-09-22</td>\n",
       "      <td>152.270004</td>\n",
       "      <td>150.559998</td>\n",
       "      <td>151.539993</td>\n",
       "      <td>151.889999</td>\n",
       "      <td>46645400.0</td>\n",
       "      <td>146.900177</td>\n",
       "    </tr>\n",
       "    <tr>\n",
       "      <td>2017-09-25</td>\n",
       "      <td>151.830002</td>\n",
       "      <td>149.160004</td>\n",
       "      <td>149.990005</td>\n",
       "      <td>150.550003</td>\n",
       "      <td>44387300.0</td>\n",
       "      <td>145.604202</td>\n",
       "    </tr>\n",
       "    <tr>\n",
       "      <td>2017-09-26</td>\n",
       "      <td>153.919998</td>\n",
       "      <td>151.690002</td>\n",
       "      <td>151.779999</td>\n",
       "      <td>153.139999</td>\n",
       "      <td>36660000.0</td>\n",
       "      <td>148.109116</td>\n",
       "    </tr>\n",
       "    <tr>\n",
       "      <td>2017-09-27</td>\n",
       "      <td>154.720001</td>\n",
       "      <td>153.539993</td>\n",
       "      <td>153.800003</td>\n",
       "      <td>154.229996</td>\n",
       "      <td>25504200.0</td>\n",
       "      <td>149.163300</td>\n",
       "    </tr>\n",
       "    <tr>\n",
       "      <td>2017-09-28</td>\n",
       "      <td>154.279999</td>\n",
       "      <td>152.699997</td>\n",
       "      <td>153.889999</td>\n",
       "      <td>153.279999</td>\n",
       "      <td>22005500.0</td>\n",
       "      <td>148.244507</td>\n",
       "    </tr>\n",
       "    <tr>\n",
       "      <td>2017-09-29</td>\n",
       "      <td>154.130005</td>\n",
       "      <td>152.000000</td>\n",
       "      <td>153.210007</td>\n",
       "      <td>154.119995</td>\n",
       "      <td>26299800.0</td>\n",
       "      <td>149.056900</td>\n",
       "    </tr>\n",
       "    <tr>\n",
       "      <td>2017-10-02</td>\n",
       "      <td>154.449997</td>\n",
       "      <td>152.720001</td>\n",
       "      <td>154.259995</td>\n",
       "      <td>153.809998</td>\n",
       "      <td>18698800.0</td>\n",
       "      <td>148.757111</td>\n",
       "    </tr>\n",
       "    <tr>\n",
       "      <td>2017-10-03</td>\n",
       "      <td>155.089996</td>\n",
       "      <td>153.910004</td>\n",
       "      <td>154.009995</td>\n",
       "      <td>154.479996</td>\n",
       "      <td>16230300.0</td>\n",
       "      <td>149.405106</td>\n",
       "    </tr>\n",
       "    <tr>\n",
       "      <td>2017-10-04</td>\n",
       "      <td>153.860001</td>\n",
       "      <td>152.460007</td>\n",
       "      <td>153.630005</td>\n",
       "      <td>153.479996</td>\n",
       "      <td>20163800.0</td>\n",
       "      <td>148.437958</td>\n",
       "    </tr>\n",
       "    <tr>\n",
       "      <td>2017-10-05</td>\n",
       "      <td>155.440002</td>\n",
       "      <td>154.050003</td>\n",
       "      <td>154.179993</td>\n",
       "      <td>155.389999</td>\n",
       "      <td>21283800.0</td>\n",
       "      <td>150.285172</td>\n",
       "    </tr>\n",
       "    <tr>\n",
       "      <td>2017-10-06</td>\n",
       "      <td>155.490005</td>\n",
       "      <td>154.559998</td>\n",
       "      <td>154.970001</td>\n",
       "      <td>155.300003</td>\n",
       "      <td>17407600.0</td>\n",
       "      <td>150.198135</td>\n",
       "    </tr>\n",
       "    <tr>\n",
       "      <td>2017-10-09</td>\n",
       "      <td>156.729996</td>\n",
       "      <td>155.490005</td>\n",
       "      <td>155.809998</td>\n",
       "      <td>155.839996</td>\n",
       "      <td>16262900.0</td>\n",
       "      <td>150.720398</td>\n",
       "    </tr>\n",
       "    <tr>\n",
       "      <td>2017-10-10</td>\n",
       "      <td>158.000000</td>\n",
       "      <td>155.100006</td>\n",
       "      <td>156.059998</td>\n",
       "      <td>155.899994</td>\n",
       "      <td>15617000.0</td>\n",
       "      <td>150.778427</td>\n",
       "    </tr>\n",
       "    <tr>\n",
       "      <td>2017-10-11</td>\n",
       "      <td>156.979996</td>\n",
       "      <td>155.750000</td>\n",
       "      <td>155.970001</td>\n",
       "      <td>156.550003</td>\n",
       "      <td>16905600.0</td>\n",
       "      <td>151.407104</td>\n",
       "    </tr>\n",
       "  </tbody>\n",
       "</table>\n",
       "</div>"
      ],
      "text/plain": [
       "                  High         Low        Open       Close      Volume  \\\n",
       "Date                                                                     \n",
       "2017-08-24  160.740005  158.550003  160.429993  159.270004  19818900.0   \n",
       "2017-08-25  160.559998  159.270004  159.649994  159.860001  25480100.0   \n",
       "2017-08-28  162.000000  159.929993  160.139999  161.470001  25966000.0   \n",
       "2017-08-29  163.119995  160.000000  160.100006  162.910004  29516900.0   \n",
       "2017-08-30  163.889999  162.610001  163.800003  163.350006  27269600.0   \n",
       "2017-08-31  164.520004  163.479996  163.639999  164.000000  26785100.0   \n",
       "2017-09-01  164.940002  163.630005  164.800003  164.050003  16591100.0   \n",
       "2017-09-05  164.250000  160.559998  163.750000  162.080002  29468500.0   \n",
       "2017-09-06  162.990005  160.520004  162.710007  161.910004  21651700.0   \n",
       "2017-09-07  162.240005  160.360001  162.089996  161.259995  21928500.0   \n",
       "2017-09-08  161.149994  158.529999  160.860001  158.630005  28611500.0   \n",
       "2017-09-11  162.050003  159.889999  160.500000  161.500000  31580800.0   \n",
       "2017-09-12  163.960007  158.770004  162.610001  160.860001  71714000.0   \n",
       "2017-09-13  159.960007  157.910004  159.869995  159.649994  44907400.0   \n",
       "2017-09-14  159.399994  158.089996  158.990005  158.279999  23760700.0   \n",
       "2017-09-15  160.970001  158.000000  158.470001  159.880005  49114600.0   \n",
       "2017-09-18  160.500000  158.000000  160.110001  158.669998  28269400.0   \n",
       "2017-09-19  159.770004  158.440002  159.509995  158.729996  20810600.0   \n",
       "2017-09-20  158.259995  153.830002  157.899994  156.070007  52951400.0   \n",
       "2017-09-21  155.800003  152.750000  155.800003  153.389999  37511700.0   \n",
       "2017-09-22  152.270004  150.559998  151.539993  151.889999  46645400.0   \n",
       "2017-09-25  151.830002  149.160004  149.990005  150.550003  44387300.0   \n",
       "2017-09-26  153.919998  151.690002  151.779999  153.139999  36660000.0   \n",
       "2017-09-27  154.720001  153.539993  153.800003  154.229996  25504200.0   \n",
       "2017-09-28  154.279999  152.699997  153.889999  153.279999  22005500.0   \n",
       "2017-09-29  154.130005  152.000000  153.210007  154.119995  26299800.0   \n",
       "2017-10-02  154.449997  152.720001  154.259995  153.809998  18698800.0   \n",
       "2017-10-03  155.089996  153.910004  154.009995  154.479996  16230300.0   \n",
       "2017-10-04  153.860001  152.460007  153.630005  153.479996  20163800.0   \n",
       "2017-10-05  155.440002  154.050003  154.179993  155.389999  21283800.0   \n",
       "2017-10-06  155.490005  154.559998  154.970001  155.300003  17407600.0   \n",
       "2017-10-09  156.729996  155.490005  155.809998  155.839996  16262900.0   \n",
       "2017-10-10  158.000000  155.100006  156.059998  155.899994  15617000.0   \n",
       "2017-10-11  156.979996  155.750000  155.970001  156.550003  16905600.0   \n",
       "\n",
       "             Adj Close  \n",
       "Date                    \n",
       "2017-08-24  154.037735  \n",
       "2017-08-25  154.608353  \n",
       "2017-08-28  156.165451  \n",
       "2017-08-29  157.558167  \n",
       "2017-08-30  157.983704  \n",
       "2017-08-31  158.612350  \n",
       "2017-09-01  158.660706  \n",
       "2017-09-05  156.755432  \n",
       "2017-09-06  156.590988  \n",
       "2017-09-07  155.962341  \n",
       "2017-09-08  153.418777  \n",
       "2017-09-11  156.194489  \n",
       "2017-09-12  155.575516  \n",
       "2017-09-13  154.405258  \n",
       "2017-09-14  153.080246  \n",
       "2017-09-15  154.627701  \n",
       "2017-09-18  153.457443  \n",
       "2017-09-19  153.515472  \n",
       "2017-09-20  150.942871  \n",
       "2017-09-21  148.350891  \n",
       "2017-09-22  146.900177  \n",
       "2017-09-25  145.604202  \n",
       "2017-09-26  148.109116  \n",
       "2017-09-27  149.163300  \n",
       "2017-09-28  148.244507  \n",
       "2017-09-29  149.056900  \n",
       "2017-10-02  148.757111  \n",
       "2017-10-03  149.405106  \n",
       "2017-10-04  148.437958  \n",
       "2017-10-05  150.285172  \n",
       "2017-10-06  150.198135  \n",
       "2017-10-09  150.720398  \n",
       "2017-10-10  150.778427  \n",
       "2017-10-11  151.407104  "
      ]
     },
     "execution_count": 36,
     "metadata": {},
     "output_type": "execute_result"
    }
   ],
   "source": [
    "apple[666:700]"
   ]
  },
  {
   "cell_type": "code",
   "execution_count": null,
   "metadata": {},
   "outputs": [],
   "source": []
  },
  {
   "cell_type": "code",
   "execution_count": null,
   "metadata": {},
   "outputs": [],
   "source": [
    "new_data= apple"
   ]
  },
  {
   "cell_type": "code",
   "execution_count": null,
   "metadata": {},
   "outputs": [],
   "source": [
    "# #creating dataframe\n",
    "\n",
    "# new_data = pd.DataFrame(index=range(0,len(df)),columns=['Date', 'Close'])\n",
    "\n",
    "# for i in range(0,len(data)):\n",
    "#     new_data['Date'][i] = data['Date'][i]\n",
    "#     new_data['Close'][i] = data['Close'][i]\n",
    "\n",
    "# new_data['Date'] = pd.to_datetime(new_data.Date,format='%Y-%m-%d')\n",
    "# new_data.index = new_data['Date']\n",
    "\n",
    "# #preparing data\n",
    "\n",
    "# new_data.rename(columns={'Close': 'y', 'Date': 'ds'}, inplace=True)\n",
    "\n",
    "# #train and validation\n",
    "\n",
    "# train = new_data[:987]\n",
    "# valid = new_data[987:]\n",
    "\n",
    "#fit the model\n",
    "\n",
    "model = Prophet()\n",
    "model.fit(train)"
   ]
  },
  {
   "cell_type": "code",
   "execution_count": null,
   "metadata": {},
   "outputs": [],
   "source": [
    "#rmse\n",
    "forecast_valid = forecast['yhat'][987:]\n",
    "rms=np.sqrt(np.mean(np.power((np.array(valid['y'])-np.array(forecast_valid)),2)))\n",
    "rms"
   ]
  },
  {
   "cell_type": "code",
   "execution_count": null,
   "metadata": {},
   "outputs": [],
   "source": [
    "#plot\n",
    "valid['Predictions'] = 0\n",
    "valid['Predictions'] = forecast_valid.values\n",
    "\n",
    "plt.plot(train['y'])\n",
    "plt.plot(valid[['y', 'Predictions']])"
   ]
  },
  {
   "cell_type": "markdown",
   "metadata": {},
   "source": [
    "# LSTM "
   ]
  },
  {
   "cell_type": "code",
   "execution_count": null,
   "metadata": {},
   "outputs": [],
   "source": [
    "\n",
    "#creating dataframe\n",
    "data = df.sort_index(ascending=True, axis=0)\n",
    "new_data = pd.DataFrame(index=range(0,len(df)),columns=['Date', 'Close'])\n",
    "for i in range(0,len(data)):\n",
    "    new_data['Date'][i] = data['Date'][i]\n",
    "    new_data['Close'][i] = data['Close'][i]\n",
    "\n",
    "#setting index\n",
    "new_data.index = new_data.Date\n",
    "new_data.drop('Date', axis=1, inplace=True)\n",
    "\n",
    "#creating train and test sets\n",
    "dataset = new_data.values\n",
    "\n",
    "train = dataset[0:987,:]\n",
    "valid = dataset[987:,:]\n",
    "\n",
    "#converting dataset into x_train and y_train\n",
    "scaler = MinMaxScaler(feature_range=(0, 1))\n",
    "scaled_data = scaler.fit_transform(dataset)\n",
    "\n",
    "x_train, y_train = [], []\n",
    "for i in range(60,len(train)):\n",
    "    x_train.append(scaled_data[i-60:i,0])\n",
    "    y_train.append(scaled_data[i,0])\n",
    "x_train, y_train = np.array(x_train), np.array(y_train)\n",
    "\n",
    "x_train = np.reshape(x_train, (x_train.shape[0],x_train.shape[1],1))\n",
    "\n",
    "# create and fit the LSTM network\n",
    "model = Sequential()\n",
    "model.add(LSTM(units=50, return_sequences=True, input_shape=(x_train.shape[1],1)))\n",
    "model.add(LSTM(units=50))\n",
    "model.add(Dense(1))\n",
    "\n",
    "model.compile(loss='mean_squared_error', optimizer='adam')\n",
    "model.fit(x_train, y_train, epochs=1, batch_size=1, verbose=2)\n",
    "\n",
    "#predicting 246 values, using past 60 from the train data\n",
    "inputs = new_data[len(new_data) - len(valid) - 60:].values\n",
    "inputs = inputs.reshape(-1,1)\n",
    "inputs  = scaler.transform(inputs)\n",
    "\n",
    "X_test = []\n",
    "for i in range(60,inputs.shape[0]):\n",
    "    X_test.append(inputs[i-60:i,0])\n",
    "X_test = np.array(X_test)\n",
    "\n",
    "X_test = np.reshape(X_test, (X_test.shape[0],X_test.shape[1],1))\n",
    "closing_price = model.predict(X_test)\n",
    "closing_price = scaler.inverse_transform(closing_price)"
   ]
  },
  {
   "cell_type": "code",
   "execution_count": null,
   "metadata": {},
   "outputs": [],
   "source": []
  },
  {
   "cell_type": "code",
   "execution_count": null,
   "metadata": {},
   "outputs": [],
   "source": [
    "rms=np.sqrt(np.mean(np.power((valid-closing_price),2)))\n",
    "rms"
   ]
  },
  {
   "cell_type": "code",
   "execution_count": null,
   "metadata": {},
   "outputs": [],
   "source": [
    "#for plotting\n",
    "train = new_data[:987]\n",
    "valid = new_data[987:]\n",
    "valid['Predictions'] = closing_price\n",
    "plt.plot(train['Close'])\n",
    "plt.plot(valid[['Close','Predictions']])"
   ]
  },
  {
   "cell_type": "code",
   "execution_count": null,
   "metadata": {},
   "outputs": [],
   "source": []
  }
 ],
 "metadata": {
  "kernelspec": {
   "display_name": "Python 3",
   "language": "python",
   "name": "python3"
  },
  "language_info": {
   "codemirror_mode": {
    "name": "ipython",
    "version": 3
   },
   "file_extension": ".py",
   "mimetype": "text/x-python",
   "name": "python",
   "nbconvert_exporter": "python",
   "pygments_lexer": "ipython3",
   "version": "3.7.1"
  }
 },
 "nbformat": 4,
 "nbformat_minor": 4
}
